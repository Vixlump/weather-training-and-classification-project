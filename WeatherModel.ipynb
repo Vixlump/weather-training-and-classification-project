{
  "nbformat": 4,
  "nbformat_minor": 0,
  "metadata": {
    "colab": {
      "provenance": []
    },
    "kernelspec": {
      "name": "python3",
      "display_name": "Python 3"
    },
    "accelerator": "GPU"
  },
  "cells": [
    {
      "cell_type": "code",
      "source": [
        "#Install required packages\n",
        "!pip install ultralytics torch torchvision opencv-python pillow albumentations\n",
        "!pip install matplotlib seaborn pandas numpy"
      ],
      "metadata": {
        "id": "bfJyq2Rdd4qD"
      },
      "execution_count": null,
      "outputs": []
    }
  ]
}